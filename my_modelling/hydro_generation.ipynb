{
 "cells": [
  {
   "cell_type": "markdown",
   "metadata": {},
   "source": [
    "# Hydrodynamical modelling\n",
    "Here I create a hydrodynamical modelling workflow using a fork of [Delft3D Toolbox](https://github.com/VeckoTheGecko/Delft3D-Toolbox).\n",
    "\n",
    "The goal with this notebook is to establish a working pipeline from the top bullet point to the bottom:\n",
    "- Exact resolution PNG\n",
    "- Delft3D Meshgrid\n",
    "- Delft3D Simulation file\n",
    "- Run the simulation\n",
    "- NetCDF output\n",
    "\n",
    "\n",
    "Key assumption:\n",
    "The boundary files `simulation.bct` and `simulation.bnd` fundamentally rely on the domain being (w, h) = (120, 120)\n"
   ]
  },
  {
   "cell_type": "markdown",
   "metadata": {},
   "source": [
    "### PNG read"
   ]
  },
  {
   "cell_type": "code",
   "execution_count": 1,
   "metadata": {},
   "outputs": [],
   "source": [
    "import delft3d\n",
    "import numpy as np\n",
    "import xarray as xr\n",
    "import pandas as pd\n",
    "from typing import Iterable\n",
    "import typing\n",
    "import os\n",
    "import time\n",
    "from matplotlib.image import imread\n",
    "import matplotlib.pyplot as plt\n",
    "from delft3d import Simulation\n",
    "\n",
    "from pathlib import Path\n",
    "\n",
    "from hydro_mesh import HydroMesh\n",
    "import toml\n",
    "from env import HYDRO_FOLDER, PARTICLE_SIM_FOLDER, CONFIG_FOLDER, TEMPLATE_FOLDER\n",
    "import shutil\n",
    "\n",
    "from __init__ import logger"
   ]
  },
  {
   "cell_type": "code",
   "execution_count": 2,
   "metadata": {},
   "outputs": [],
   "source": [
    "cfg = CONFIG_FOLDER / \"headland2_1km_oninkb.toml\"\n",
    "cfg = toml.load(cfg)\n"
   ]
  },
  {
   "cell_type": "code",
   "execution_count": 3,
   "metadata": {},
   "outputs": [
    {
     "name": "stdout",
     "output_type": "stream",
     "text": [
      "{'Coordinate System': 'Cartesian', 'Missing Value': 0.0, 'MN': [121, 121]}\n"
     ]
    },
    {
     "name": "stderr",
     "output_type": "stream",
     "text": [
      "2022-09-22 00:22:35.059 | SUCCESS  | __main__:<module>:40 - Simulation files ready for sim: yellow-delaware-avocado\n",
      "2022-09-22 00:22:35.065 | INFO     | __main__:<module>:41 - Please run the simulation manually: /mnt/c/Users/nickh/oceans/repos/honours-modelling/my_modelling/sim-runs-hydro/yellow-delaware-avocado\n"
     ]
    }
   ],
   "source": [
    "# Defining folder that hydro simulation is going in\n",
    "hydro_sim_run = HYDRO_FOLDER / cfg[\"hydro_model\"][\"ID_human\"]\n",
    "\n",
    "if (hydro_sim_run / \"trim-simulation.nc\").exists():\n",
    "    logger.warning(f\"Hydrodynamic simulation run already exists at {hydro_sim_run}.\")\n",
    "else:\n",
    "    if hydro_sim_run.exists():\n",
    "        shutil.rmtree(hydro_sim_run)\n",
    "    resolution = int(cfg[\"coastline\"][\"dx\"] / 1_000)\n",
    "    shutil.copytree(TEMPLATE_FOLDER / f\"hydro_template_{resolution}km\", hydro_sim_run)\n",
    "\n",
    "    hydro = HydroMesh(\n",
    "        x_start=cfg[\"coastline\"][\"start_xy\"][0],\n",
    "        y_start=cfg[\"coastline\"][\"start_xy\"][1],\n",
    "        dx = cfg[\"coastline\"][\"dx\"],\n",
    "        dy = cfg[\"coastline\"][\"dy\"],\n",
    "        )\n",
    "\n",
    "\n",
    "    coast_path = cfg[\"coastline\"][\"coast_file\"]\n",
    "    hydro.from_png(coast_path)\n",
    "    hydro.to_grd(template_grd = TEMPLATE_FOLDER / \"hydro_example\" / \"simulation.grd\", out_grd = hydro_sim_run / \"simulation.grd\", missing_value=0.0)\n",
    "    hydro.to_netcdf(path = hydro_sim_run / \"land_mask.nc\")\n",
    "\n",
    "    # Prompting user to manually generate the enclosure file\n",
    "    counter = 0\n",
    "    while True:\n",
    "        if (hydro_sim_run / \"simulation.enc\").exists():\n",
    "            break\n",
    "        elif counter < 2:\n",
    "            input(f\"Please open the simulation.grd file in folder '{hydro_sim_run}' in Delft3D and save it (generating simulation.enc). Press enter when done.\")\n",
    "            counter += 1\n",
    "        else:\n",
    "            raise FileNotFoundError(\"Could not find simulation.enc. Please open the simulation.grd file in Delft3D and save it (generating simulation.enc).\")\n",
    "\n",
    "    # Run the simulation manually\n",
    "    logger.success(f\"Simulation files ready for sim: {cfg['hydro_model']['ID_human']}\")\n",
    "    logger.info(f\"Please run the simulation manually: {hydro_sim_run.resolve()}\")"
   ]
  },
  {
   "cell_type": "code",
   "execution_count": null,
   "metadata": {},
   "outputs": [],
   "source": []
  }
 ],
 "metadata": {
  "kernelspec": {
   "display_name": "Python 3.10.6 ('parcels_hons_l')",
   "language": "python",
   "name": "python3"
  },
  "language_info": {
   "codemirror_mode": {
    "name": "ipython",
    "version": 3
   },
   "file_extension": ".py",
   "mimetype": "text/x-python",
   "name": "python",
   "nbconvert_exporter": "python",
   "pygments_lexer": "ipython3",
   "version": "3.10.6"
  },
  "vscode": {
   "interpreter": {
    "hash": "db5b3c64e0b1696fa618708f4a8aa51bad666d52a5c9d7c2cc1db36ee8b88e56"
   }
  }
 },
 "nbformat": 4,
 "nbformat_minor": 2
}
