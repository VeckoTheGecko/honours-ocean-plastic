{
 "cells": [
  {
   "cell_type": "code",
   "execution_count": null,
   "metadata": {},
   "outputs": [],
   "source": [
    "from matplotlib import pyplot as plt\n",
    "import seaborn as sns\n",
    "import xarray as xr\n",
    "import numpy as np\n",
    "import toml\n",
    "import particles_vis_tooling as pv\n",
    "from env import PARTICLE_SIM_FOLDER, CONFIG_FOLDER, PARTICLE_PLOT_FOLDER, beaching_strats, coast_shapes, resolutions\n",
    "import os"
   ]
  },
  {
   "cell_type": "code",
   "execution_count": null,
   "metadata": {},
   "outputs": [],
   "source": [
    "toml_fnames = [\n",
    "    \"flat_1km_oninkb.toml\",\n",
    "    \"concave_1km_oninkb.toml\",\n",
    "    \"convex_1km_oninkb.toml\",\n",
    "]\n",
    "\n",
    "\n",
    "simulations = {fname: pv.ParticlesSimulation.from_toml(fname, all_particles=True) for fname in toml_fnames}"
   ]
  },
  {
   "cell_type": "code",
   "execution_count": null,
   "metadata": {},
   "outputs": [],
   "source": [
    "import math\n",
    "from matplotlib.animation import FuncAnimation, FFMpegWriter\n",
    "import matplotlib\n",
    "from tqdm import tqdm\n",
    "\n",
    "from env import PARTICLE_PLOT_FOLDER\n",
    "\n",
    "def rand():\n",
    "    return np.random.random(10)\n",
    "\n",
    "\n",
    "class UpdateDist:\n",
    "    def __init__(self, ax, sim_obj):\n",
    "        self.sim_obj = sim_obj\n",
    "        self.ds_trajectories = sim_obj.ds_trajectories\n",
    "        self.ds_fieldset = sim_obj.ds_fieldset\n",
    "        \n",
    "        self.field = self.ds_fieldset.land.plot(ax=ax, cmap = \"Greys\")\n",
    "        # Remove colourbar\n",
    "        ax.collections[0].colorbar.remove()\n",
    "\n",
    "        self.scat = ax.scatter([], [], color = 'red', s=1)\n",
    "        self.ax = ax\n",
    "\n",
    "        # Set up plot parameters\n",
    "\n",
    "\n",
    "    def __call__(self, i):\n",
    "        # This way the plot can continuously run and we just keep\n",
    "        # watching new realizations of the process\n",
    "        ds = self.ds_trajectories.isel(obs = i)\n",
    "        self.scat.set_offsets(np.vstack([ds.lon.values, ds.lat.values]).T)\n",
    "\n",
    "        self.ax.set(\n",
    "            title = f\"{self.sim_obj.name}, days={ds.days_since_start.item():.2f}\"\n",
    "        )\n",
    "        return self.scat,\n",
    "\n",
    "ANIMATION = True\n",
    "with plt.rc_context(matplotlib.rcParamsDefault):\n",
    "    if ANIMATION:\n",
    "        pbar = tqdm(simulations.values())\n",
    "        for sim_obj in pbar:\n",
    "            animation_path = PARTICLE_PLOT_FOLDER / \"animations\" / f\"{sim_obj.name}.mp4\"\n",
    "            pbar.set_description(sim_obj.name)\n",
    "            if animation_path.exists():\n",
    "                continue\n",
    "            fig, ax = plt.subplots()\n",
    "            ud = UpdateDist(ax, sim_obj)\n",
    "            anim = FuncAnimation(fig, ud, frames=int((24 / 0.5) * 15), interval=100, blit=True)\n",
    "\n",
    "            writervideo = FFMpegWriter(fps=60) \n",
    "            anim.save(animation_path, writer=writervideo)"
   ]
  }
 ],
 "metadata": {
  "kernelspec": {
   "display_name": "Python 3.10.5 ('parcels_hons')",
   "language": "python",
   "name": "python3"
  },
  "language_info": {
   "name": "python",
   "version": "3.10.5"
  },
  "orig_nbformat": 4,
  "vscode": {
   "interpreter": {
    "hash": "1cccabe62fbe334cc4726dff9ae63b761c60aa64990ed65dbeb8b20a6c3ccf81"
   }
  }
 },
 "nbformat": 4,
 "nbformat_minor": 2
}
